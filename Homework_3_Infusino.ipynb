{
 "cells": [
  {
   "cell_type": "markdown",
   "metadata": {},
   "source": [
    "# Homework 3 - Numpy"
   ]
  },
  {
   "cell_type": "markdown",
   "metadata": {},
   "source": [
    "Esercizio 1: creazione array 3 x 3 con valori compresi tra 0 e 8"
   ]
  },
  {
   "cell_type": "code",
   "execution_count": 1,
   "metadata": {},
   "outputs": [],
   "source": [
    "import numpy as np"
   ]
  },
  {
   "cell_type": "code",
   "execution_count": 3,
   "metadata": {},
   "outputs": [
    {
     "data": {
      "text/plain": [
       "array([[0, 1, 2],\n",
       "       [3, 4, 5],\n",
       "       [6, 7, 8]])"
      ]
     },
     "execution_count": 3,
     "metadata": {},
     "output_type": "execute_result"
    }
   ],
   "source": [
    "mat_1 = np.arange(9).reshape(3,3) \n",
    "mat_1"
   ]
  },
  {
   "cell_type": "markdown",
   "metadata": {},
   "source": [
    "Esercizio 2: creazione vettore di 30 elementi generati casualmente ed individuazione valore medio"
   ]
  },
  {
   "cell_type": "code",
   "execution_count": 12,
   "metadata": {},
   "outputs": [
    {
     "name": "stdout",
     "output_type": "stream",
     "text": [
      "La media degli elementi del vettore inserito è:  0.42723552020502437\n"
     ]
    },
    {
     "data": {
      "text/plain": [
       "0.42723552020502437"
      ]
     },
     "execution_count": 12,
     "metadata": {},
     "output_type": "execute_result"
    }
   ],
   "source": [
    "import numpy.random as rdm\n",
    "\n",
    "v_rand = rdm.random(30)  #genesi del vettore\n",
    "\n",
    "def mean_vector(vec):\n",
    "    \n",
    "    sum = 0.\n",
    "    \n",
    "    for x in vec:\n",
    "        sum = sum + x\n",
    "    \n",
    "    sum = sum/vec.size\n",
    "    \n",
    "    print(\"La media degli elementi del vettore inserito è: \", sum)\n",
    "    \n",
    "    return sum\n",
    "\n",
    "mean_vector(v_rand)\n",
    "\n"
   ]
  },
  {
   "cell_type": "code",
   "execution_count": 13,
   "metadata": {},
   "outputs": [
    {
     "data": {
      "text/plain": [
       "0.42723552020502437"
      ]
     },
     "execution_count": 13,
     "metadata": {},
     "output_type": "execute_result"
    }
   ],
   "source": [
    "np.mean(v_rand) #test"
   ]
  },
  {
   "cell_type": "markdown",
   "metadata": {},
   "source": [
    "Esercizio 3: trovare gli indici degli elementi diversi da zero del seguente array [3,5,0,4,0,8,0]"
   ]
  },
  {
   "cell_type": "code",
   "execution_count": 34,
   "metadata": {},
   "outputs": [
    {
     "name": "stdout",
     "output_type": "stream",
     "text": [
      "La lista degli indici degli elementi del vettore diversi da zero è:  [0, 1, 3, 5]\n"
     ]
    },
    {
     "data": {
      "text/plain": [
       "[0, 1, 3, 5]"
      ]
     },
     "execution_count": 34,
     "metadata": {},
     "output_type": "execute_result"
    }
   ],
   "source": [
    "array_prova = np.array([3,5,0,4,0,8,0])\n",
    "\n",
    "def trova_indici_non_zero(vec):\n",
    "    \n",
    "    index_list = []     #lista che conterrà gli indici richiesti\n",
    "    \n",
    "    j = 0               #contatore degli indici dell'array vec\n",
    "    \n",
    "    k = 0               #contatore degli indici della lista index_list\n",
    "    \n",
    "    for xx in vec:      #ciclo sugli elementi del vettore\n",
    "        \n",
    "        if xx != 0:\n",
    "            index_list.insert(k, j) #se xx è diverso da zero inserisce nella lista l'indice corrispondente\n",
    "            k += 1\n",
    "        \n",
    "        j += 1           #incremento dell'indice del vettore\n",
    "    \n",
    "    print(\"La lista degli indici degli elementi del vettore diversi da zero è: \", index_list)\n",
    "    \n",
    "    return index_list\n",
    "\n",
    "trova_indici_non_zero(array_prova)"
   ]
  },
  {
   "cell_type": "markdown",
   "metadata": {},
   "source": [
    "Esercizio 4: programma per ottenere gli indici degli elementi ordinati di un dato array."
   ]
  },
  {
   "cell_type": "code",
   "execution_count": 41,
   "metadata": {},
   "outputs": [
    {
     "data": {
      "text/plain": [
       "array([ 94, 815, 532, 648, 459, 173, 639, 831, 529, 382, 359, 967])"
      ]
     },
     "execution_count": 41,
     "metadata": {},
     "output_type": "execute_result"
    }
   ],
   "source": [
    "array_interi = rdm.randint(1, 1000, 12)\n",
    "array_interi"
   ]
  },
  {
   "cell_type": "code",
   "execution_count": 45,
   "metadata": {},
   "outputs": [
    {
     "name": "stdout",
     "output_type": "stream",
     "text": [
      "L'array inserito è:  [ 94 815 532 648 459 173 639 831 529 382 359 967]\n",
      "\n",
      "L'array ordinato è:  [ 94 173 359 382 459 529 532 639 648 815 831 967]\n",
      "\n",
      "La lista degli indici è:  [ 0  1  2  3  4  5  6  7  8  9 10 11]\n",
      "\n",
      "La lista degli indici ordinati è:  [ 0  5 10  9  4  8  2  6  3  1  7 11]\n"
     ]
    },
    {
     "data": {
      "text/plain": [
       "(array([ 94, 173, 359, 382, 459, 529, 532, 639, 648, 815, 831, 967]),\n",
       " array([ 0,  5, 10,  9,  4,  8,  2,  6,  3,  1,  7, 11]))"
      ]
     },
     "execution_count": 45,
     "metadata": {},
     "output_type": "execute_result"
    }
   ],
   "source": [
    "def ordina_indici(vec):\n",
    "    \n",
    "    #genesi di un array contenente gli indici dell'array vec\n",
    "    \n",
    "    index_array = np.arange(vec.size)\n",
    "    \n",
    "    #copia degli array vec e index_array\n",
    "    \n",
    "    vec_cp = np.copy(vec)\n",
    "    index_array_cp = np.copy(index_array)\n",
    "    \n",
    "    i = 0   #contatore per il ciclo while esterno\n",
    "    \n",
    "    a = 0\n",
    "    b = 0\n",
    "    c = 0\n",
    "    d = 0  #variabili contenitore per lo scambio degli indici\n",
    "    \n",
    "    while(i < vec.size):\n",
    "        \n",
    "        j = 1 #contatore per il ciclo while iterno\n",
    "        \n",
    "        while(j < vec.size - i):\n",
    "            \n",
    "            if vec_cp[j - 1] > vec_cp[j]:\n",
    "                \n",
    "                a = vec_cp[j]\n",
    "                b = vec_cp[j-1]      #scambio di posizione tra due elementi successivi dell'array\n",
    "                vec_cp[j] = b        #se il minore di indice è maggiore dell'altro elemento\n",
    "                vec_cp[j-1] = a\n",
    "                \n",
    "                \n",
    "                c = index_array_cp[j]\n",
    "                d = index_array_cp[j-1]      #scambio di indici corrispondente allo scambio di elementi precedente\n",
    "                index_array_cp[j] = d\n",
    "                index_array_cp[j-1] = c\n",
    "            j += 1\n",
    "            \n",
    "        i += 1\n",
    "        \n",
    "    #stampe e confronto tra array non ordinati ed ordinati\n",
    "    \n",
    "    print(\"L'array inserito è: \", vec)\n",
    "    print()\n",
    "    print(\"L'array ordinato è: \", vec_cp)\n",
    "    print()\n",
    "    print(\"La lista degli indici è: \", index_array)\n",
    "    print()\n",
    "    print(\"La lista degli indici ordinati è: \", index_array_cp)\n",
    "    \n",
    "    return vec_cp, index_array_cp\n",
    "\n",
    "ordina_indici(array_interi)\n",
    "                \n",
    "            "
   ]
  },
  {
   "cell_type": "markdown",
   "metadata": {},
   "source": [
    "Esercizio 5: programma che calcola la media degli elementi di una matrice lungo gli assi"
   ]
  },
  {
   "cell_type": "code",
   "execution_count": 48,
   "metadata": {},
   "outputs": [
    {
     "data": {
      "text/plain": [
       "array([[70.97943479, 28.46409517, 63.44683856,  2.12521478, 27.99636234],\n",
       "       [65.40229287, 17.22180382, 17.70033698, 42.56797185, 34.30894785],\n",
       "       [87.5905551 , 27.81873903, 89.14726392, 62.00948467, 17.30574132],\n",
       "       [26.06401188, 91.85779422, 71.92070232, 77.83293539, 23.57602848],\n",
       "       [25.92938413, 33.22248001, 30.00333486,  8.26009478, 52.83360351]])"
      ]
     },
     "execution_count": 48,
     "metadata": {},
     "output_type": "execute_result"
    }
   ],
   "source": [
    "matrix_prova = 100.0*rdm.random((5,5))\n",
    "matrix_prova"
   ]
  },
  {
   "cell_type": "code",
   "execution_count": 55,
   "metadata": {},
   "outputs": [
    {
     "name": "stdout",
     "output_type": "stream",
     "text": [
      "La matrice inserita è:  [[70.97943479 28.46409517 63.44683856  2.12521478 27.99636234]\n",
      " [65.40229287 17.22180382 17.70033698 42.56797185 34.30894785]\n",
      " [87.5905551  27.81873903 89.14726392 62.00948467 17.30574132]\n",
      " [26.06401188 91.85779422 71.92070232 77.83293539 23.57602848]\n",
      " [25.92938413 33.22248001 30.00333486  8.26009478 52.83360351]]\n",
      "\n",
      "Lista delle medie delle righe:  [38.60238912948786, 35.440270673550415, 56.77435680742777, 58.25029445808855, 30.04977945775952]\n",
      "\n",
      "Lista delle medie delle colonne:  [55.19313575366952, 39.716982451199, 54.44369532769027, 38.55914029394723, 31.20413669980807]\n"
     ]
    },
    {
     "data": {
      "text/plain": [
       "([38.60238912948786,\n",
       "  35.440270673550415,\n",
       "  56.77435680742777,\n",
       "  58.25029445808855,\n",
       "  30.04977945775952],\n",
       " [55.19313575366952,\n",
       "  39.716982451199,\n",
       "  54.44369532769027,\n",
       "  38.55914029394723,\n",
       "  31.20413669980807])"
      ]
     },
     "execution_count": 55,
     "metadata": {},
     "output_type": "execute_result"
    }
   ],
   "source": [
    "def medie_sugli_assi(mat):\n",
    "    \n",
    "    media_righe = [np.mean(q) for q in mat]\n",
    "    \n",
    "    #trasposta della matrice mat\n",
    "    \n",
    "    mat_t = np.transpose(mat)\n",
    "    \n",
    "    media_colonne = [np.mean(p) for p in mat_t]\n",
    "    \n",
    "    print(\"La matrice inserita è: \", mat)\n",
    "    print()\n",
    "    print(\"Lista delle medie delle righe: \", media_righe)\n",
    "    print()\n",
    "    print(\"Lista delle medie delle colonne: \", media_colonne)\n",
    "    \n",
    "    return media_righe, media_colonne\n",
    "\n",
    "medie_sugli_assi(matrix_prova)\n",
    "    \n",
    "    "
   ]
  }
 ],
 "metadata": {
  "kernelspec": {
   "display_name": "Python 3",
   "language": "python",
   "name": "python3"
  },
  "language_info": {
   "codemirror_mode": {
    "name": "ipython",
    "version": 3
   },
   "file_extension": ".py",
   "mimetype": "text/x-python",
   "name": "python",
   "nbconvert_exporter": "python",
   "pygments_lexer": "ipython3",
   "version": "3.8.5"
  }
 },
 "nbformat": 4,
 "nbformat_minor": 4
}

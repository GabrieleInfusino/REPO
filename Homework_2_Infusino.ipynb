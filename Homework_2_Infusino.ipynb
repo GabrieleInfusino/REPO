{
 "cells": [
  {
   "cell_type": "markdown",
   "metadata": {},
   "source": [
    "# Homework 2"
   ]
  },
  {
   "cell_type": "markdown",
   "metadata": {},
   "source": [
    "## Funzioni preliminari\n",
    "\n",
    "In questa sezione sono presenti due funzioni che si è preferito creare preliminarmente a supporto degli esercizi da svolgere. Sono presenti anche delle prove effettuate per testare le funzioni scritte."
   ]
  },
  {
   "cell_type": "code",
   "execution_count": 1,
   "metadata": {},
   "outputs": [],
   "source": [
    "#La funzione seguente legge una stringa in ingresso:\n",
    "#se la stringa corrisponde ad un valore numerico intero positivo la stringa viene convertita in un intero\n",
    "#altrimenti la funzione restituisce la stringa inalterata.\n",
    "#La funzione serve da supporto per verificare se un input dato da tastiera è un intero positivo o meno.\n",
    "\n",
    "import string\n",
    "\n",
    "\n",
    "def verifica_intero_pos(str):\n",
    "    \n",
    "    count = 0\n",
    "    check_char = string.punctuation + string.ascii_letters\n",
    "    \n",
    "    for k in str:\n",
    "        if k in check_char:    #verifica se nella stringa ci sono caratteri alfabetici e speciali\n",
    "            count += 1\n",
    "            \n",
    "    if count == 0:             #se count è uguale a zero dopo il for allora la stringa ha solo caratteri numerici\n",
    "        str = int(str)         #e può essere convertita in intero\n",
    "    \n",
    "    return str"
   ]
  },
  {
   "cell_type": "code",
   "execution_count": 2,
   "metadata": {},
   "outputs": [],
   "source": [
    "#Di seguito viene costruita una funzione che genera una lista di interi positivi dati da input. Permette\n",
    "#inoltre di scegliere da input la dimensione della lista.\n",
    "\n",
    "def gen_list_int():\n",
    "    \n",
    "    num_list = []\n",
    "    check_1 = False\n",
    "    \n",
    "    #creata una lista vuota, viene chiesto di inserire da input la dimensione della lista\n",
    "    #verificando che l'input inserito sia correttamente un intero\n",
    "    \n",
    "    while check_1 == False:\n",
    "        dim_list = input(\"Inserire la dimensione della lista (numero intero positivo diverso da zero): \")\n",
    "        int_dim_list = verifica_intero_pos(dim_list)\n",
    "        \n",
    "        if type(int_dim_list) == int and int_dim_list != 0:\n",
    "            check_1 = True\n",
    "            print() \n",
    "            print(\"La dimensione della lista è: \", int_dim_list)\n",
    "            print()\n",
    "        else:\n",
    "            print(\"Inserito valore non valido.\")\n",
    "            print()\n",
    "            \n",
    "    #assegnata la dimensione alla lista, viene chiesto di inserire da input i valori numerici\n",
    "    #richiedendo e verificando che siano interi positivi, incluso lo zero\n",
    "    \n",
    "    k = 0\n",
    "    print(\"Inserire {} numeri interi positivi per comporre la lista.\".format(int_dim_list))\n",
    "    print()\n",
    "    \n",
    "    while k < int_dim_list:\n",
    "        check_2 = False\n",
    "        \n",
    "        while check_2 == False:\n",
    "            val_list_k = input(\"Inserire il valore di posizione {}: \".format(k))\n",
    "            int_val_list_k = verifica_intero_pos(val_list_k)\n",
    "            \n",
    "            if type(int_val_list_k)== int:\n",
    "                num_list.insert(k, int_val_list_k) \n",
    "                check_2 = True\n",
    "            else:\n",
    "                print(\"Inserito elemento non valido.\")\n",
    "                print()\n",
    "                \n",
    "        k += 1\n",
    "    return num_list\n",
    "        "
   ]
  },
  {
   "cell_type": "code",
   "execution_count": 3,
   "metadata": {},
   "outputs": [],
   "source": [
    "#Una semplice funzione che verifica se un intero positivo passato in input è un quadrato perfetto.\n",
    "#Nelle sue successive implementazioni l'input che le viene passato proviene da liste che preliminarmente\n",
    "#sono state costruite con interi positivi da input.\n",
    "\n",
    "import math\n",
    "\n",
    "\n",
    "def verifica_quadrato(n):\n",
    "    \n",
    "    if int(math.sqrt(n)) - math.sqrt(n) == 0:\n",
    "        return 0\n",
    "    else:\n",
    "        return 1\n",
    "    "
   ]
  },
  {
   "cell_type": "code",
   "execution_count": 7,
   "metadata": {},
   "outputs": [
    {
     "data": {
      "text/plain": [
       "(88, int)"
      ]
     },
     "execution_count": 7,
     "metadata": {},
     "output_type": "execute_result"
    }
   ],
   "source": [
    "x = verifica_intero_pos(\"88\")\n",
    "x, type(x)"
   ]
  },
  {
   "cell_type": "code",
   "execution_count": 8,
   "metadata": {},
   "outputs": [
    {
     "data": {
      "text/plain": [
       "('albero951', str)"
      ]
     },
     "execution_count": 8,
     "metadata": {},
     "output_type": "execute_result"
    }
   ],
   "source": [
    "y = verifica_intero_pos(\"albero951\")\n",
    "y, type(y)"
   ]
  },
  {
   "cell_type": "code",
   "execution_count": 9,
   "metadata": {},
   "outputs": [
    {
     "data": {
      "text/plain": [
       "str"
      ]
     },
     "execution_count": 9,
     "metadata": {},
     "output_type": "execute_result"
    }
   ],
   "source": [
    "type(verifica_intero_pos(\"-3.24\"))"
   ]
  },
  {
   "cell_type": "code",
   "execution_count": null,
   "metadata": {},
   "outputs": [],
   "source": []
  },
  {
   "cell_type": "code",
   "execution_count": 10,
   "metadata": {},
   "outputs": [
    {
     "name": "stdout",
     "output_type": "stream",
     "text": [
      "Inserire la dimensione della lista (numero intero positivo diverso da zero): -4\n",
      "Inserito valore non valido.\n",
      "\n",
      "Inserire la dimensione della lista (numero intero positivo diverso da zero): 0\n",
      "Inserito valore non valido.\n",
      "\n",
      "Inserire la dimensione della lista (numero intero positivo diverso da zero): Pippo\n",
      "Inserito valore non valido.\n",
      "\n",
      "Inserire la dimensione della lista (numero intero positivo diverso da zero): 6\n",
      "\n",
      "La dimensione della lista è:  6\n",
      "\n",
      "Inserire 6 numeri interi positivi per comporre la lista.\n",
      "\n",
      "Inserire il valore di posizione 0: -2\n",
      "Inserito elemento non valido.\n",
      "\n",
      "Inserire il valore di posizione 0: 3\n",
      "Inserire il valore di posizione 1: 5\n",
      "Inserire il valore di posizione 2: 7\n",
      "Inserire il valore di posizione 3: 9\n",
      "Inserire il valore di posizione 4: 21\n",
      "Inserire il valore di posizione 5: 334\n"
     ]
    }
   ],
   "source": [
    "lista_prova = gen_list_int()"
   ]
  },
  {
   "cell_type": "code",
   "execution_count": 11,
   "metadata": {},
   "outputs": [
    {
     "data": {
      "text/plain": [
       "[3, 5, 7, 9, 21, 334]"
      ]
     },
     "execution_count": 11,
     "metadata": {},
     "output_type": "execute_result"
    }
   ],
   "source": [
    "lista_prova"
   ]
  },
  {
   "cell_type": "code",
   "execution_count": 13,
   "metadata": {},
   "outputs": [],
   "source": [
    "z = verifica_quadrato(983)"
   ]
  },
  {
   "cell_type": "code",
   "execution_count": 14,
   "metadata": {},
   "outputs": [
    {
     "data": {
      "text/plain": [
       "1"
      ]
     },
     "execution_count": 14,
     "metadata": {},
     "output_type": "execute_result"
    }
   ],
   "source": [
    "z"
   ]
  },
  {
   "cell_type": "code",
   "execution_count": 15,
   "metadata": {},
   "outputs": [
    {
     "data": {
      "text/plain": [
       "0"
      ]
     },
     "execution_count": 15,
     "metadata": {},
     "output_type": "execute_result"
    }
   ],
   "source": [
    "w = verifica_quadrato(10000)\n",
    "w"
   ]
  },
  {
   "cell_type": "markdown",
   "metadata": {},
   "source": [
    "## Esercizio 1\n",
    "Viene implementata adesso una funzione che, su una data lista di interi positivi, calcola il massimo e il minimo tra gli elementi e la somma di tutti gli elementi. La lista viene generata da input."
   ]
  },
  {
   "cell_type": "code",
   "execution_count": 17,
   "metadata": {},
   "outputs": [],
   "source": [
    "def somma_max_min_list_num():\n",
    "    #genesi della lista di interi positivi\n",
    "    lista_num = gen_list_int()\n",
    "    \n",
    "    #inizializzazione delle variabili\n",
    "    max_val = lista_num[0]\n",
    "    min_val = lista_num[0]\n",
    "    somma = 0\n",
    "    \n",
    "    \n",
    "    \n",
    "    #ciclo for per il calcolo del massimo e del minimo \n",
    "    for k in lista_num:\n",
    "        \n",
    "        if k > max_val:\n",
    "            max_val = k\n",
    "            \n",
    "        if k < min_val:\n",
    "            min_val = k\n",
    "    \n",
    "    #ciclo per il calcolo della somma\n",
    "    for j in lista_num:\n",
    "        somma = somma + j\n",
    "        \n",
    "    #stampe dei valori\n",
    "    print()\n",
    "    print(\"La lista inserita è: \", lista_num)\n",
    "    print()\n",
    "    print(\"Il massimo valore nella lista è: \", max_val)\n",
    "    print()\n",
    "    print(\"Il minimo valore nella lista è: \", min_val)\n",
    "    print()\n",
    "    print(\"La somma dei valori nella lista è: \", somma)\n",
    "    \n",
    "    return max_val, min_val, somma\n",
    "    "
   ]
  },
  {
   "cell_type": "code",
   "execution_count": 18,
   "metadata": {},
   "outputs": [
    {
     "name": "stdout",
     "output_type": "stream",
     "text": [
      "Inserire la dimensione della lista (numero intero positivo diverso da zero): 12\n",
      "\n",
      "La dimensione della lista è:  12\n",
      "\n",
      "Inserire 12 numeri interi positivi per comporre la lista.\n",
      "\n",
      "Inserire il valore di posizione 0: 5\n",
      "Inserire il valore di posizione 1: 21\n",
      "Inserire il valore di posizione 2: 334\n",
      "Inserire il valore di posizione 3: 1098\n",
      "Inserire il valore di posizione 4: 7\n",
      "Inserire il valore di posizione 5: 6\n",
      "Inserire il valore di posizione 6: 31\n",
      "Inserire il valore di posizione 7: 22\n",
      "Inserire il valore di posizione 8: 90\n",
      "Inserire il valore di posizione 9: 83\n",
      "Inserire il valore di posizione 10: 12\n",
      "Inserire il valore di posizione 11: 10\n",
      "\n",
      "La lista inserita è:  [5, 21, 334, 1098, 7, 6, 31, 22, 90, 83, 12, 10]\n",
      "\n",
      "Il massimo valore nella lista è:  1098\n",
      "\n",
      "Il minimo valore nella lista è:  5\n",
      "\n",
      "La somma dei valori nella lista è:  1719\n"
     ]
    },
    {
     "data": {
      "text/plain": [
       "(1098, 5, 1719)"
      ]
     },
     "execution_count": 18,
     "metadata": {},
     "output_type": "execute_result"
    }
   ],
   "source": [
    "somma_max_min_list_num()"
   ]
  },
  {
   "cell_type": "code",
   "execution_count": 19,
   "metadata": {},
   "outputs": [
    {
     "name": "stdout",
     "output_type": "stream",
     "text": [
      "Inserire la dimensione della lista (numero intero positivo diverso da zero): 4\n",
      "\n",
      "La dimensione della lista è:  4\n",
      "\n",
      "Inserire 4 numeri interi positivi per comporre la lista.\n",
      "\n",
      "Inserire il valore di posizione 0: 1\n",
      "Inserire il valore di posizione 1: 2\n",
      "Inserire il valore di posizione 2: 3\n",
      "Inserire il valore di posizione 3: 4\n",
      "\n",
      "La lista inserita è:  [1, 2, 3, 4]\n",
      "\n",
      "Il massimo valore nella lista è:  4\n",
      "\n",
      "Il minimo valore nella lista è:  1\n",
      "\n",
      "La somma dei valori nella lista è:  10\n"
     ]
    }
   ],
   "source": [
    "risultati = somma_max_min_list_num()"
   ]
  },
  {
   "cell_type": "code",
   "execution_count": 20,
   "metadata": {},
   "outputs": [
    {
     "data": {
      "text/plain": [
       "(4, 1, 10)"
      ]
     },
     "execution_count": 20,
     "metadata": {},
     "output_type": "execute_result"
    }
   ],
   "source": [
    "risultati"
   ]
  },
  {
   "cell_type": "markdown",
   "metadata": {},
   "source": [
    "## Esercizio 2\n",
    "Di seguito viene implementata una funzione che, su una lista di interi generata da input da tastiera, crea due sottoliste contenenti, rispettivamente, tutti gli elementi pari e tutti gli elementi dispari della lista di partenza."
   ]
  },
  {
   "cell_type": "code",
   "execution_count": 23,
   "metadata": {},
   "outputs": [],
   "source": [
    "def separa_pari_dispari_da_lista():\n",
    "    \n",
    "    #genesi della lista\n",
    "    lista_ex2 = gen_list_int()\n",
    "    print()\n",
    "    print(\"La lista inserita è: \", lista_ex2)\n",
    "    print()\n",
    "    \n",
    "    \n",
    "    #cicli in list comprehension per la separazione degli elementi pari da quelli dispari\n",
    "    \n",
    "    lista_pari = [k for k in lista_ex2 if k % 2 == 0]      \n",
    "    lista_dispari = [k for k in lista_ex2 if k % 2 != 0]    \n",
    "    \n",
    "    \n",
    "    print(\"La sottolista degli elementi pari é: \", lista_pari )\n",
    "    print()\n",
    "    print(\"La sottolista degli elementi dispari è: \", lista_dispari)\n",
    "    print()\n",
    "    \n",
    "    #ciclo per la selezione dell'output\n",
    "    \n",
    "    b_check = False\n",
    "    \n",
    "    while(b_check == False):\n",
    "        decision = input(\"Inserire p per selezionare la lista pari o d per selezionare la lista dispari: \")\n",
    "    \n",
    "        if decision == \"p\":\n",
    "            return lista_pari\n",
    "            b_check = True\n",
    "        \n",
    "        elif decision == \"d\":\n",
    "            return lista_dispari\n",
    "            b_check = Truee\n",
    "        \n",
    "        else:\n",
    "            print(\"Inserito valore non valido.\")\n",
    "            print()\n",
    "    \n",
    "            \n",
    "                                        \n",
    "    \n",
    "    \n",
    "    \n",
    "    "
   ]
  },
  {
   "cell_type": "code",
   "execution_count": 24,
   "metadata": {},
   "outputs": [
    {
     "name": "stdout",
     "output_type": "stream",
     "text": [
      "Inserire la dimensione della lista (numero intero positivo diverso da zero): 6\n",
      "\n",
      "La dimensione della lista è:  6\n",
      "\n",
      "Inserire 6 numeri interi positivi per comporre la lista.\n",
      "\n",
      "Inserire il valore di posizione 0: 2\n",
      "Inserire il valore di posizione 1: 4\n",
      "Inserire il valore di posizione 2: 2\n",
      "Inserire il valore di posizione 3: 3\n",
      "Inserire il valore di posizione 4: 5\n",
      "Inserire il valore di posizione 5: 10\n",
      "\n",
      "La lista inserita è:  [2, 4, 2, 3, 5, 10]\n",
      "\n",
      "La sottolista degli elementi pari é:  [2, 4, 2, 10]\n",
      "\n",
      "La sottolista degli elementi dispari è:  [3, 5]\n",
      "\n",
      "Inserire p per selezionare la lista pari o d per selezionare la lista dispari: p\n"
     ]
    }
   ],
   "source": [
    "lista_p = separa_pari_dispari_da_lista()"
   ]
  },
  {
   "cell_type": "code",
   "execution_count": 25,
   "metadata": {},
   "outputs": [
    {
     "data": {
      "text/plain": [
       "[2, 4, 2, 10]"
      ]
     },
     "execution_count": 25,
     "metadata": {},
     "output_type": "execute_result"
    }
   ],
   "source": [
    "lista_p"
   ]
  },
  {
   "cell_type": "code",
   "execution_count": 26,
   "metadata": {},
   "outputs": [
    {
     "name": "stdout",
     "output_type": "stream",
     "text": [
      "Inserire la dimensione della lista (numero intero positivo diverso da zero): 6\n",
      "\n",
      "La dimensione della lista è:  6\n",
      "\n",
      "Inserire 6 numeri interi positivi per comporre la lista.\n",
      "\n",
      "Inserire il valore di posizione 0: 12\n",
      "Inserire il valore di posizione 1: 3\n",
      "Inserire il valore di posizione 2: 5\n",
      "Inserire il valore di posizione 3: 11\n",
      "Inserire il valore di posizione 4: 12\n",
      "Inserire il valore di posizione 5: 23\n",
      "\n",
      "La lista inserita è:  [12, 3, 5, 11, 12, 23]\n",
      "\n",
      "La sottolista degli elementi pari é:  [12, 12]\n",
      "\n",
      "La sottolista degli elementi dispari è:  [3, 5, 11, 23]\n",
      "\n",
      "Inserire p per selezionare la lista pari o d per selezionare la lista dispari: -5\n",
      "Inserito valore non valido.\n",
      "\n",
      "Inserire p per selezionare la lista pari o d per selezionare la lista dispari: aq\n",
      "Inserito valore non valido.\n",
      "\n",
      "Inserire p per selezionare la lista pari o d per selezionare la lista dispari: d\n"
     ]
    },
    {
     "data": {
      "text/plain": [
       "[3, 5, 11, 23]"
      ]
     },
     "execution_count": 26,
     "metadata": {},
     "output_type": "execute_result"
    }
   ],
   "source": [
    "lista_d = separa_pari_dispari_da_lista()\n",
    "lista_d"
   ]
  },
  {
   "cell_type": "markdown",
   "metadata": {},
   "source": [
    "## Esercizio 3\n",
    "Il codice seguente verifica, tramite la restituzione di un booleano, se la lista passata come parametro da input è\n",
    "formata interamente da quadrati perfetti."
   ]
  },
  {
   "cell_type": "code",
   "execution_count": 27,
   "metadata": {},
   "outputs": [],
   "source": [
    "def verifica_sequenza_quadrati():\n",
    "\n",
    "    #genesi da input della lista da verificare\n",
    "\n",
    "    seq_num = gen_list_int()\n",
    "    \n",
    "    print()\n",
    "    print(\"La lista inserita è: \", seq_num)\n",
    "    print()\n",
    "    \n",
    "    par_contr = False #booleano per l'output\n",
    "    c = 0             #contatore dei numeri non quadrati perfetti\n",
    "    \n",
    "    #ciclo che conta il numero di valori della lista che non sono quadrati perfetti\n",
    "    \n",
    "    for l in seq_num:\n",
    "        if int(math.sqrt(l)) - math.sqrt(l) != 0:\n",
    "            c += 1\n",
    "    \n",
    "    #condizionale per stabilire se la sequenza è formata tutta da quadrati perfetti\n",
    "    \n",
    "    if c == 0:\n",
    "        par_contr = True\n",
    "        print(\"La sequenza è interamente composta da quadrati perfetti\")\n",
    "    else:\n",
    "        print(\"La sequenza contiene almeno un numero che non è un quadrato perfetto\")\n",
    "    \n",
    "    \n",
    "    return par_contr\n",
    "    \n",
    "    \n"
   ]
  },
  {
   "cell_type": "code",
   "execution_count": 28,
   "metadata": {},
   "outputs": [
    {
     "name": "stdout",
     "output_type": "stream",
     "text": [
      "Inserire la dimensione della lista (numero intero positivo diverso da zero): 5\n",
      "\n",
      "La dimensione della lista è:  5\n",
      "\n",
      "Inserire 5 numeri interi positivi per comporre la lista.\n",
      "\n",
      "Inserire il valore di posizione 0: 16\n",
      "Inserire il valore di posizione 1: 25\n",
      "Inserire il valore di posizione 2: 1\n",
      "Inserire il valore di posizione 3: 3\n",
      "Inserire il valore di posizione 4: 100\n",
      "\n",
      "La lista inserita è:  [16, 25, 1, 3, 100]\n",
      "\n",
      "La sequenza contiene almeno un numero che non è un quadrato perfetto\n"
     ]
    },
    {
     "data": {
      "text/plain": [
       "False"
      ]
     },
     "execution_count": 28,
     "metadata": {},
     "output_type": "execute_result"
    }
   ],
   "source": [
    "verifica_sequenza_quadrati()"
   ]
  },
  {
   "cell_type": "code",
   "execution_count": 30,
   "metadata": {},
   "outputs": [
    {
     "name": "stdout",
     "output_type": "stream",
     "text": [
      "Inserire la dimensione della lista (numero intero positivo diverso da zero): 5\n",
      "\n",
      "La dimensione della lista è:  5\n",
      "\n",
      "Inserire 5 numeri interi positivi per comporre la lista.\n",
      "\n",
      "Inserire il valore di posizione 0: 16\n",
      "Inserire il valore di posizione 1: 100\n",
      "Inserire il valore di posizione 2: 10000\n",
      "Inserire il valore di posizione 3: 36\n",
      "Inserire il valore di posizione 4: 169\n",
      "\n",
      "La lista inserita è:  [16, 100, 10000, 36, 169]\n",
      "\n",
      "La sequenza è interamente composta da quadrati perfetti\n"
     ]
    }
   ],
   "source": [
    "bq = verifica_sequenza_quadrati()"
   ]
  },
  {
   "cell_type": "code",
   "execution_count": 31,
   "metadata": {},
   "outputs": [
    {
     "data": {
      "text/plain": [
       "True"
      ]
     },
     "execution_count": 31,
     "metadata": {},
     "output_type": "execute_result"
    }
   ],
   "source": [
    "bq"
   ]
  },
  {
   "cell_type": "markdown",
   "metadata": {},
   "source": [
    "Di seguito una funzione equivalente alla precedente costruita mediante list comprehension"
   ]
  },
  {
   "cell_type": "code",
   "execution_count": 37,
   "metadata": {},
   "outputs": [],
   "source": [
    "def verifica_sequenza_quadrati_2():\n",
    "    \n",
    "    lista_input = gen_list_int() #genesi della lista da verificare da input\n",
    "\n",
    "     \n",
    "    check_quadrati = [verifica_quadrato(x) for x in lista_input] #mediante list comp. si ottiene una lista\n",
    "                                                                 #che contiene tutti zeri se ciascuno dei numeri\n",
    "                                                                 #di lista_input è un quadrato perfetto\n",
    "                                                                 #o valori pari ad 1 per ciascun intero non quadrato\n",
    "                                                                 #perfetto\n",
    "\n",
    "    vb_check = False #booleano per l'output\n",
    "    \n",
    "    sum = 0          #parametro di controllo dell'output\n",
    "\n",
    "    #nel seguente ciclo sum risulta la somma di tutti i valori della lista_input, se sum == 0 allora la lista_input\n",
    "    #contiene interamente quadrati perfetti\n",
    "    \n",
    "    for m in check_quadrati:\n",
    "        sum = sum + m\n",
    "\n",
    "    if sum == 0:\n",
    "        vb_check = True\n",
    "        print()\n",
    "        print(\"La lista è composta interamente da quadrati perfetti.\")\n",
    "    else:\n",
    "        print()\n",
    "        print(\"La lista contiene almeno un intero che non è un quadrato perfetto.\")\n",
    "\n",
    "    return vb_check"
   ]
  },
  {
   "cell_type": "code",
   "execution_count": 38,
   "metadata": {},
   "outputs": [
    {
     "name": "stdout",
     "output_type": "stream",
     "text": [
      "Inserire la dimensione della lista (numero intero positivo diverso da zero): 4\n",
      "\n",
      "La dimensione della lista è:  4\n",
      "\n",
      "Inserire 4 numeri interi positivi per comporre la lista.\n",
      "\n",
      "Inserire il valore di posizione 0: 16\n",
      "Inserire il valore di posizione 1: 25\n",
      "Inserire il valore di posizione 2: 625\n",
      "Inserire il valore di posizione 3: 48\n",
      "\n",
      "La lista contiene almeno un intero che non è un quadrato perfetto.\n"
     ]
    },
    {
     "data": {
      "text/plain": [
       "False"
      ]
     },
     "execution_count": 38,
     "metadata": {},
     "output_type": "execute_result"
    }
   ],
   "source": [
    "verifica_sequenza_quadrati_2()"
   ]
  },
  {
   "cell_type": "code",
   "execution_count": 39,
   "metadata": {},
   "outputs": [
    {
     "name": "stdout",
     "output_type": "stream",
     "text": [
      "Inserire la dimensione della lista (numero intero positivo diverso da zero): 4\n",
      "\n",
      "La dimensione della lista è:  4\n",
      "\n",
      "Inserire 4 numeri interi positivi per comporre la lista.\n",
      "\n",
      "Inserire il valore di posizione 0: 9\n",
      "Inserire il valore di posizione 1: 16\n",
      "Inserire il valore di posizione 2: 100\n",
      "Inserire il valore di posizione 3: 10000\n",
      "\n",
      "La lista è composta interamente da quadrati perfetti.\n"
     ]
    }
   ],
   "source": [
    "par_contr_b = verifica_sequenza_quadrati_2()"
   ]
  },
  {
   "cell_type": "code",
   "execution_count": 40,
   "metadata": {},
   "outputs": [
    {
     "data": {
      "text/plain": [
       "True"
      ]
     },
     "execution_count": 40,
     "metadata": {},
     "output_type": "execute_result"
    }
   ],
   "source": [
    "par_contr_b"
   ]
  },
  {
   "cell_type": "code",
   "execution_count": null,
   "metadata": {},
   "outputs": [],
   "source": []
  }
 ],
 "metadata": {
  "kernelspec": {
   "display_name": "Python 3",
   "language": "python",
   "name": "python3"
  },
  "language_info": {
   "codemirror_mode": {
    "name": "ipython",
    "version": 3
   },
   "file_extension": ".py",
   "mimetype": "text/x-python",
   "name": "python",
   "nbconvert_exporter": "python",
   "pygments_lexer": "ipython3",
   "version": "3.8.5"
  }
 },
 "nbformat": 4,
 "nbformat_minor": 4
}

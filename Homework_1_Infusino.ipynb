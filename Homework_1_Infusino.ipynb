{
 "cells": [
  {
   "cell_type": "markdown",
   "metadata": {},
   "source": [
    "# Esercizi prima lezione"
   ]
  },
  {
   "cell_type": "markdown",
   "metadata": {},
   "source": [
    "* Funzione somma di due interi: $f(x,y) = x + y$"
   ]
  },
  {
   "cell_type": "code",
   "execution_count": 2,
   "metadata": {},
   "outputs": [],
   "source": [
    "def somma_interi(int1, int2):\n",
    "    print('Eseguo la somma dei numeri {} e {}, il cui risultato è: '.format(int1, int2))\n",
    "    int_somma = int1 + int2\n",
    "    return int_somma"
   ]
  },
  {
   "cell_type": "code",
   "execution_count": 4,
   "metadata": {},
   "outputs": [
    {
     "name": "stdout",
     "output_type": "stream",
     "text": [
      "Eseguo la somma dei numeri 12 e 31, il cui risultato è: \n"
     ]
    },
    {
     "data": {
      "text/plain": [
       "43"
      ]
     },
     "execution_count": 4,
     "metadata": {},
     "output_type": "execute_result"
    }
   ],
   "source": [
    "prova_somma = somma_interi(12,31)\n",
    "prova_somma"
   ]
  },
  {
   "cell_type": "markdown",
   "metadata": {},
   "source": [
    "* Concatenazione di due stringhe"
   ]
  },
  {
   "cell_type": "code",
   "execution_count": 12,
   "metadata": {},
   "outputs": [],
   "source": [
    "def componi_stringhe(str1,str2):\n",
    "    print('Compongo le due stringhe {} e {} formando una stringa unica in maiuscolo.'.format(str1,str2))\n",
    "    str_comp = str1 + str2\n",
    "    return str_comp.upper()"
   ]
  },
  {
   "cell_type": "code",
   "execution_count": 13,
   "metadata": {},
   "outputs": [
    {
     "name": "stdout",
     "output_type": "stream",
     "text": [
      "Compongo le due stringhe Via del Corso  e 44 formando una stringa unica in maiuscolo.\n"
     ]
    },
    {
     "data": {
      "text/plain": [
       "'VIA DEL CORSO 44'"
      ]
     },
     "execution_count": 13,
     "metadata": {},
     "output_type": "execute_result"
    }
   ],
   "source": [
    "via = 'Via del Corso '\n",
    "civico = '44'\n",
    "indirizzo = componi_stringhe(via, civico)\n",
    "indirizzo"
   ]
  },
  {
   "cell_type": "markdown",
   "metadata": {},
   "source": [
    "* Raddoppio del primo parametro e triplo del secondo parametro"
   ]
  },
  {
   "cell_type": "code",
   "execution_count": 14,
   "metadata": {},
   "outputs": [],
   "source": [
    "def fun_2a_3b(a,b):#la funzione raddoppia a e triplica b stampandoli nel modo indicato nel print\n",
    "    a2 = 2*a\n",
    "    b3 = 3*b\n",
    "    print('Il doppio di {} è {} mentre il triplo di {} è {}.'.format(a,a2,b,b3))\n",
    "    return a2, b3"
   ]
  },
  {
   "cell_type": "code",
   "execution_count": 15,
   "metadata": {},
   "outputs": [
    {
     "name": "stdout",
     "output_type": "stream",
     "text": [
      "Il doppio di 5 è 10 mentre il triplo di 9 è 27.\n"
     ]
    },
    {
     "data": {
      "text/plain": [
       "(10, 27)"
      ]
     },
     "execution_count": 15,
     "metadata": {},
     "output_type": "execute_result"
    }
   ],
   "source": [
    "risultati = fun_2a_3b(5,9)\n",
    "risultati"
   ]
  }
 ],
 "metadata": {
  "kernelspec": {
   "display_name": "Python 3",
   "language": "python",
   "name": "python3"
  },
  "language_info": {
   "codemirror_mode": {
    "name": "ipython",
    "version": 3
   },
   "file_extension": ".py",
   "mimetype": "text/x-python",
   "name": "python",
   "nbconvert_exporter": "python",
   "pygments_lexer": "ipython3",
   "version": "3.8.5"
  }
 },
 "nbformat": 4,
 "nbformat_minor": 4
}
